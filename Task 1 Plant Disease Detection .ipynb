{
 "cells": [
  {
   "cell_type": "markdown",
   "metadata": {
    "_cell_guid": "b1076dfc-b9ad-4769-8c92-a6c4dae69d19",
    "_uuid": "8f2839f25d086af736a60e9eeb907d3b93b6e0e5"
   },
   "source": [
    "# Task 1 : Plant disease detection \n",
    "\n",
    "### VGG16 model"
   ]
  },
  {
   "cell_type": "markdown",
   "metadata": {},
   "source": [
    "1. Install the packages, create functions"
   ]
  },
  {
   "cell_type": "code",
   "execution_count": 1,
   "metadata": {
    "execution": {
     "iopub.execute_input": "2023-04-08T17:08:33.578413Z",
     "iopub.status.busy": "2023-04-08T17:08:33.577474Z",
     "iopub.status.idle": "2023-04-08T17:08:33.595772Z",
     "shell.execute_reply": "2023-04-08T17:08:33.594468Z",
     "shell.execute_reply.started": "2023-04-08T17:08:33.578364Z"
    }
   },
   "outputs": [],
   "source": [
    "import numpy as np\n",
    "import pandas as pd\n",
    "import os,os.path\n",
    "import splitfolders\n",
    "import shutil\n",
    "\n",
    "import seaborn as sns\n",
    "import matplotlib.pyplot as plt\n",
    "import matplotlib.image as mpimg\n",
    "import matplotlib\n",
    "\n",
    "import keras.backend as K\n",
    "import tensorflow as tf\n",
    "\n",
    "from tensorflow import keras\n",
    "from tensorflow.keras import layers, models\n",
    "from tensorflow.keras.preprocessing.image import ImageDataGenerator\n",
    "from tensorflow.keras.layers import Dense, Dropout, Flatten, BatchNormalization\n",
    "from tensorflow.keras.callbacks import Callback, EarlyStopping, ModelCheckpoint\n",
    "from tensorflow.keras.optimizers import Adam\n",
    "from keras.applications.vgg16 import VGG16\n",
    "from tensorflow.keras import Model\n",
    "from tensorflow.keras.layers.experimental import preprocessing\n",
    "from tensorflow.keras.preprocessing import image_dataset_from_directory\n",
    "\n",
    "matplotlib.style.use('ggplot')\n",
    "%matplotlib inline"
   ]
  },
  {
   "cell_type": "code",
   "execution_count": 2,
   "metadata": {
    "execution": {
     "iopub.execute_input": "2023-04-08T17:08:33.598671Z",
     "iopub.status.busy": "2023-04-08T17:08:33.597717Z",
     "iopub.status.idle": "2023-04-08T17:08:33.613468Z",
     "shell.execute_reply": "2023-04-08T17:08:33.612338Z",
     "shell.execute_reply.started": "2023-04-08T17:08:33.598627Z"
    }
   },
   "outputs": [],
   "source": [
    "# Set some default variables\n",
    "DATA_DIR = 'E:\\PycharmProjects\\Sync Intern\\Task 1\\plantvillage dataset\\color'\n",
    "BATCH_SIZE = 64\n",
    "EPOCHS = 5\n",
    "IMAGE_SHAPE = (224, 224)"
   ]
  },
  {
   "cell_type": "code",
   "execution_count": 3,
   "metadata": {
    "execution": {
     "iopub.execute_input": "2023-04-08T17:08:33.618249Z",
     "iopub.status.busy": "2023-04-08T17:08:33.617857Z",
     "iopub.status.idle": "2023-04-08T17:08:33.628622Z",
     "shell.execute_reply": "2023-04-08T17:08:33.627478Z",
     "shell.execute_reply.started": "2023-04-08T17:08:33.618181Z"
    }
   },
   "outputs": [],
   "source": [
    "# The function for computing f1 score (macro) for multiclass classification in Keras\n",
    "def f1_macro(y_true, y_pred):    \n",
    "    def recall_m(y_true, y_pred):\n",
    "        TP = K.sum(K.round(K.clip(y_true * y_pred, 0, 1)))\n",
    "        Positives = K.sum(K.round(K.clip(y_true, 0, 1)))\n",
    "        \n",
    "        recall = TP / (Positives+K.epsilon())    \n",
    "        return recall \n",
    "    \n",
    "    \n",
    "    def precision_m(y_true, y_pred):\n",
    "        TP = K.sum(K.round(K.clip(y_true * y_pred, 0, 1)))\n",
    "        Pred_Positives = K.sum(K.round(K.clip(y_pred, 0, 1)))\n",
    "    \n",
    "        precision = TP / (Pred_Positives+K.epsilon())\n",
    "        return precision \n",
    "    \n",
    "    precision, recall = precision_m(y_true, y_pred), recall_m(y_true, y_pred)\n",
    "    \n",
    "    return 2*((precision*recall)/(precision+recall+K.epsilon()))"
   ]
  },
  {
   "cell_type": "markdown",
   "metadata": {},
   "source": [
    "2. Upload and explore the data"
   ]
  },
  {
   "cell_type": "code",
   "execution_count": 4,
   "metadata": {
    "execution": {
     "iopub.execute_input": "2023-04-08T17:08:42.122080Z",
     "iopub.status.busy": "2023-04-08T17:08:42.121624Z",
     "iopub.status.idle": "2023-04-08T17:08:42.197754Z",
     "shell.execute_reply": "2023-04-08T17:08:42.196548Z",
     "shell.execute_reply.started": "2023-04-08T17:08:42.122039Z"
    }
   },
   "outputs": [
    {
     "data": {
      "text/html": [
       "<div>\n",
       "<style scoped>\n",
       "    .dataframe tbody tr th:only-of-type {\n",
       "        vertical-align: middle;\n",
       "    }\n",
       "\n",
       "    .dataframe tbody tr th {\n",
       "        vertical-align: top;\n",
       "    }\n",
       "\n",
       "    .dataframe thead th {\n",
       "        text-align: right;\n",
       "    }\n",
       "</style>\n",
       "<table border=\"1\" class=\"dataframe\">\n",
       "  <thead>\n",
       "    <tr style=\"text-align: right;\">\n",
       "      <th></th>\n",
       "      <th>Plant</th>\n",
       "      <th>Disease</th>\n",
       "      <th>Directory</th>\n",
       "      <th>Files</th>\n",
       "    </tr>\n",
       "  </thead>\n",
       "  <tbody>\n",
       "    <tr>\n",
       "      <th>0</th>\n",
       "      <td>Apple</td>\n",
       "      <td>Apple_scab</td>\n",
       "      <td>Apple___Apple_scab</td>\n",
       "      <td>630</td>\n",
       "    </tr>\n",
       "    <tr>\n",
       "      <th>1</th>\n",
       "      <td>Apple</td>\n",
       "      <td>Black_rot</td>\n",
       "      <td>Apple___Black_rot</td>\n",
       "      <td>621</td>\n",
       "    </tr>\n",
       "    <tr>\n",
       "      <th>2</th>\n",
       "      <td>Apple</td>\n",
       "      <td>Cedar_apple_rust</td>\n",
       "      <td>Apple___Cedar_apple_rust</td>\n",
       "      <td>275</td>\n",
       "    </tr>\n",
       "    <tr>\n",
       "      <th>3</th>\n",
       "      <td>Apple</td>\n",
       "      <td>healthy</td>\n",
       "      <td>Apple___healthy</td>\n",
       "      <td>1645</td>\n",
       "    </tr>\n",
       "    <tr>\n",
       "      <th>4</th>\n",
       "      <td>Blueberry</td>\n",
       "      <td>healthy</td>\n",
       "      <td>Blueberry___healthy</td>\n",
       "      <td>1502</td>\n",
       "    </tr>\n",
       "    <tr>\n",
       "      <th>5</th>\n",
       "      <td>Cherry_(including_sour)</td>\n",
       "      <td>healthy</td>\n",
       "      <td>Cherry_(including_sour)___healthy</td>\n",
       "      <td>854</td>\n",
       "    </tr>\n",
       "    <tr>\n",
       "      <th>6</th>\n",
       "      <td>Cherry_(including_sour)</td>\n",
       "      <td>Powdery_mildew</td>\n",
       "      <td>Cherry_(including_sour)___Powdery_mildew</td>\n",
       "      <td>1052</td>\n",
       "    </tr>\n",
       "    <tr>\n",
       "      <th>10</th>\n",
       "      <td>Corn_(maize)</td>\n",
       "      <td>Northern_Leaf_Blight</td>\n",
       "      <td>Corn_(maize)___Northern_Leaf_Blight</td>\n",
       "      <td>985</td>\n",
       "    </tr>\n",
       "    <tr>\n",
       "      <th>9</th>\n",
       "      <td>Corn_(maize)</td>\n",
       "      <td>healthy</td>\n",
       "      <td>Corn_(maize)___healthy</td>\n",
       "      <td>1162</td>\n",
       "    </tr>\n",
       "    <tr>\n",
       "      <th>7</th>\n",
       "      <td>Corn_(maize)</td>\n",
       "      <td>Cercospora_leaf_spot Gray_leaf_spot</td>\n",
       "      <td>Corn_(maize)___Cercospora_leaf_spot Gray_leaf_...</td>\n",
       "      <td>513</td>\n",
       "    </tr>\n",
       "    <tr>\n",
       "      <th>8</th>\n",
       "      <td>Corn_(maize)</td>\n",
       "      <td>Common_rust_</td>\n",
       "      <td>Corn_(maize)___Common_rust_</td>\n",
       "      <td>1192</td>\n",
       "    </tr>\n",
       "    <tr>\n",
       "      <th>11</th>\n",
       "      <td>Grape</td>\n",
       "      <td>Black_rot</td>\n",
       "      <td>Grape___Black_rot</td>\n",
       "      <td>1180</td>\n",
       "    </tr>\n",
       "    <tr>\n",
       "      <th>12</th>\n",
       "      <td>Grape</td>\n",
       "      <td>Esca_(Black_Measles)</td>\n",
       "      <td>Grape___Esca_(Black_Measles)</td>\n",
       "      <td>1383</td>\n",
       "    </tr>\n",
       "    <tr>\n",
       "      <th>13</th>\n",
       "      <td>Grape</td>\n",
       "      <td>healthy</td>\n",
       "      <td>Grape___healthy</td>\n",
       "      <td>423</td>\n",
       "    </tr>\n",
       "    <tr>\n",
       "      <th>14</th>\n",
       "      <td>Grape</td>\n",
       "      <td>Leaf_blight_(Isariopsis_Leaf_Spot)</td>\n",
       "      <td>Grape___Leaf_blight_(Isariopsis_Leaf_Spot)</td>\n",
       "      <td>1076</td>\n",
       "    </tr>\n",
       "    <tr>\n",
       "      <th>15</th>\n",
       "      <td>Orange</td>\n",
       "      <td>Haunglongbing_(Citrus_greening)</td>\n",
       "      <td>Orange___Haunglongbing_(Citrus_greening)</td>\n",
       "      <td>5507</td>\n",
       "    </tr>\n",
       "    <tr>\n",
       "      <th>17</th>\n",
       "      <td>Peach</td>\n",
       "      <td>healthy</td>\n",
       "      <td>Peach___healthy</td>\n",
       "      <td>360</td>\n",
       "    </tr>\n",
       "    <tr>\n",
       "      <th>16</th>\n",
       "      <td>Peach</td>\n",
       "      <td>Bacterial_spot</td>\n",
       "      <td>Peach___Bacterial_spot</td>\n",
       "      <td>2297</td>\n",
       "    </tr>\n",
       "    <tr>\n",
       "      <th>19</th>\n",
       "      <td>Pepper,_bell</td>\n",
       "      <td>healthy</td>\n",
       "      <td>Pepper,_bell___healthy</td>\n",
       "      <td>1478</td>\n",
       "    </tr>\n",
       "    <tr>\n",
       "      <th>18</th>\n",
       "      <td>Pepper,_bell</td>\n",
       "      <td>Bacterial_spot</td>\n",
       "      <td>Pepper,_bell___Bacterial_spot</td>\n",
       "      <td>997</td>\n",
       "    </tr>\n",
       "    <tr>\n",
       "      <th>20</th>\n",
       "      <td>Potato</td>\n",
       "      <td>Early_blight</td>\n",
       "      <td>Potato___Early_blight</td>\n",
       "      <td>1000</td>\n",
       "    </tr>\n",
       "    <tr>\n",
       "      <th>21</th>\n",
       "      <td>Potato</td>\n",
       "      <td>healthy</td>\n",
       "      <td>Potato___healthy</td>\n",
       "      <td>152</td>\n",
       "    </tr>\n",
       "    <tr>\n",
       "      <th>22</th>\n",
       "      <td>Potato</td>\n",
       "      <td>Late_blight</td>\n",
       "      <td>Potato___Late_blight</td>\n",
       "      <td>1000</td>\n",
       "    </tr>\n",
       "    <tr>\n",
       "      <th>23</th>\n",
       "      <td>Raspberry</td>\n",
       "      <td>healthy</td>\n",
       "      <td>Raspberry___healthy</td>\n",
       "      <td>371</td>\n",
       "    </tr>\n",
       "    <tr>\n",
       "      <th>24</th>\n",
       "      <td>Soybean</td>\n",
       "      <td>healthy</td>\n",
       "      <td>Soybean___healthy</td>\n",
       "      <td>5090</td>\n",
       "    </tr>\n",
       "    <tr>\n",
       "      <th>25</th>\n",
       "      <td>Squash</td>\n",
       "      <td>Powdery_mildew</td>\n",
       "      <td>Squash___Powdery_mildew</td>\n",
       "      <td>1835</td>\n",
       "    </tr>\n",
       "    <tr>\n",
       "      <th>26</th>\n",
       "      <td>Strawberry</td>\n",
       "      <td>healthy</td>\n",
       "      <td>Strawberry___healthy</td>\n",
       "      <td>456</td>\n",
       "    </tr>\n",
       "    <tr>\n",
       "      <th>27</th>\n",
       "      <td>Strawberry</td>\n",
       "      <td>Leaf_scorch</td>\n",
       "      <td>Strawberry___Leaf_scorch</td>\n",
       "      <td>1109</td>\n",
       "    </tr>\n",
       "    <tr>\n",
       "      <th>35</th>\n",
       "      <td>Tomato</td>\n",
       "      <td>Target_Spot</td>\n",
       "      <td>Tomato___Target_Spot</td>\n",
       "      <td>1404</td>\n",
       "    </tr>\n",
       "    <tr>\n",
       "      <th>34</th>\n",
       "      <td>Tomato</td>\n",
       "      <td>Spider_mites Two-spotted_spider_mite</td>\n",
       "      <td>Tomato___Spider_mites Two-spotted_spider_mite</td>\n",
       "      <td>1676</td>\n",
       "    </tr>\n",
       "    <tr>\n",
       "      <th>33</th>\n",
       "      <td>Tomato</td>\n",
       "      <td>Septoria_leaf_spot</td>\n",
       "      <td>Tomato___Septoria_leaf_spot</td>\n",
       "      <td>1771</td>\n",
       "    </tr>\n",
       "    <tr>\n",
       "      <th>32</th>\n",
       "      <td>Tomato</td>\n",
       "      <td>Leaf_Mold</td>\n",
       "      <td>Tomato___Leaf_Mold</td>\n",
       "      <td>952</td>\n",
       "    </tr>\n",
       "    <tr>\n",
       "      <th>28</th>\n",
       "      <td>Tomato</td>\n",
       "      <td>Bacterial_spot</td>\n",
       "      <td>Tomato___Bacterial_spot</td>\n",
       "      <td>2127</td>\n",
       "    </tr>\n",
       "    <tr>\n",
       "      <th>30</th>\n",
       "      <td>Tomato</td>\n",
       "      <td>healthy</td>\n",
       "      <td>Tomato___healthy</td>\n",
       "      <td>1591</td>\n",
       "    </tr>\n",
       "    <tr>\n",
       "      <th>29</th>\n",
       "      <td>Tomato</td>\n",
       "      <td>Early_blight</td>\n",
       "      <td>Tomato___Early_blight</td>\n",
       "      <td>1000</td>\n",
       "    </tr>\n",
       "    <tr>\n",
       "      <th>36</th>\n",
       "      <td>Tomato</td>\n",
       "      <td>Tomato_mosaic_virus</td>\n",
       "      <td>Tomato___Tomato_mosaic_virus</td>\n",
       "      <td>373</td>\n",
       "    </tr>\n",
       "    <tr>\n",
       "      <th>31</th>\n",
       "      <td>Tomato</td>\n",
       "      <td>Late_blight</td>\n",
       "      <td>Tomato___Late_blight</td>\n",
       "      <td>1909</td>\n",
       "    </tr>\n",
       "    <tr>\n",
       "      <th>37</th>\n",
       "      <td>Tomato</td>\n",
       "      <td>Tomato_Yellow_Leaf_Curl_Virus</td>\n",
       "      <td>Tomato___Tomato_Yellow_Leaf_Curl_Virus</td>\n",
       "      <td>5357</td>\n",
       "    </tr>\n",
       "  </tbody>\n",
       "</table>\n",
       "</div>"
      ],
      "text/plain": [
       "                      Plant                               Disease  \\\n",
       "0                     Apple                            Apple_scab   \n",
       "1                     Apple                             Black_rot   \n",
       "2                     Apple                      Cedar_apple_rust   \n",
       "3                     Apple                               healthy   \n",
       "4                 Blueberry                               healthy   \n",
       "5   Cherry_(including_sour)                               healthy   \n",
       "6   Cherry_(including_sour)                        Powdery_mildew   \n",
       "10             Corn_(maize)                  Northern_Leaf_Blight   \n",
       "9              Corn_(maize)                               healthy   \n",
       "7              Corn_(maize)   Cercospora_leaf_spot Gray_leaf_spot   \n",
       "8              Corn_(maize)                          Common_rust_   \n",
       "11                    Grape                             Black_rot   \n",
       "12                    Grape                  Esca_(Black_Measles)   \n",
       "13                    Grape                               healthy   \n",
       "14                    Grape    Leaf_blight_(Isariopsis_Leaf_Spot)   \n",
       "15                   Orange       Haunglongbing_(Citrus_greening)   \n",
       "17                    Peach                               healthy   \n",
       "16                    Peach                        Bacterial_spot   \n",
       "19             Pepper,_bell                               healthy   \n",
       "18             Pepper,_bell                        Bacterial_spot   \n",
       "20                   Potato                          Early_blight   \n",
       "21                   Potato                               healthy   \n",
       "22                   Potato                           Late_blight   \n",
       "23                Raspberry                               healthy   \n",
       "24                  Soybean                               healthy   \n",
       "25                   Squash                        Powdery_mildew   \n",
       "26               Strawberry                               healthy   \n",
       "27               Strawberry                           Leaf_scorch   \n",
       "35                   Tomato                           Target_Spot   \n",
       "34                   Tomato  Spider_mites Two-spotted_spider_mite   \n",
       "33                   Tomato                    Septoria_leaf_spot   \n",
       "32                   Tomato                             Leaf_Mold   \n",
       "28                   Tomato                        Bacterial_spot   \n",
       "30                   Tomato                               healthy   \n",
       "29                   Tomato                          Early_blight   \n",
       "36                   Tomato                   Tomato_mosaic_virus   \n",
       "31                   Tomato                           Late_blight   \n",
       "37                   Tomato         Tomato_Yellow_Leaf_Curl_Virus   \n",
       "\n",
       "                                            Directory  Files  \n",
       "0                                  Apple___Apple_scab    630  \n",
       "1                                   Apple___Black_rot    621  \n",
       "2                            Apple___Cedar_apple_rust    275  \n",
       "3                                     Apple___healthy   1645  \n",
       "4                                 Blueberry___healthy   1502  \n",
       "5                   Cherry_(including_sour)___healthy    854  \n",
       "6            Cherry_(including_sour)___Powdery_mildew   1052  \n",
       "10                Corn_(maize)___Northern_Leaf_Blight    985  \n",
       "9                              Corn_(maize)___healthy   1162  \n",
       "7   Corn_(maize)___Cercospora_leaf_spot Gray_leaf_...    513  \n",
       "8                         Corn_(maize)___Common_rust_   1192  \n",
       "11                                  Grape___Black_rot   1180  \n",
       "12                       Grape___Esca_(Black_Measles)   1383  \n",
       "13                                    Grape___healthy    423  \n",
       "14         Grape___Leaf_blight_(Isariopsis_Leaf_Spot)   1076  \n",
       "15           Orange___Haunglongbing_(Citrus_greening)   5507  \n",
       "17                                    Peach___healthy    360  \n",
       "16                             Peach___Bacterial_spot   2297  \n",
       "19                             Pepper,_bell___healthy   1478  \n",
       "18                      Pepper,_bell___Bacterial_spot    997  \n",
       "20                              Potato___Early_blight   1000  \n",
       "21                                   Potato___healthy    152  \n",
       "22                               Potato___Late_blight   1000  \n",
       "23                                Raspberry___healthy    371  \n",
       "24                                  Soybean___healthy   5090  \n",
       "25                            Squash___Powdery_mildew   1835  \n",
       "26                               Strawberry___healthy    456  \n",
       "27                           Strawberry___Leaf_scorch   1109  \n",
       "35                               Tomato___Target_Spot   1404  \n",
       "34      Tomato___Spider_mites Two-spotted_spider_mite   1676  \n",
       "33                        Tomato___Septoria_leaf_spot   1771  \n",
       "32                                 Tomato___Leaf_Mold    952  \n",
       "28                            Tomato___Bacterial_spot   2127  \n",
       "30                                   Tomato___healthy   1591  \n",
       "29                              Tomato___Early_blight   1000  \n",
       "36                       Tomato___Tomato_mosaic_virus    373  \n",
       "31                               Tomato___Late_blight   1909  \n",
       "37             Tomato___Tomato_Yellow_Leaf_Curl_Virus   5357  "
      ]
     },
     "execution_count": 4,
     "metadata": {},
     "output_type": "execute_result"
    }
   ],
   "source": [
    "# Check the content\n",
    "\n",
    "pairs = list()\n",
    "number = list()\n",
    "\n",
    "for directory in os.listdir(path=DATA_DIR):\n",
    "    columns = directory.split('___')\n",
    "    columns.append(directory)\n",
    "    \n",
    "    sub_path = DATA_DIR + '/' + directory\n",
    "    columns.append(len([name for name in os.listdir(path=sub_path)]))\n",
    "    \n",
    "    pairs.append(columns)\n",
    "    \n",
    "pairs = pd.DataFrame(pairs, columns=['Plant', 'Disease', 'Directory', 'Files'])\n",
    "pairs.sort_values(by='Plant')"
   ]
  },
  {
   "cell_type": "markdown",
   "metadata": {},
   "source": [
    "There are some pairs when only a healthy plant is present. These are Blueberry (4), Orange (15), Raspberry (23), Soybean (24), Squash (55). These are not exactly interesting for us, because we want to detect diseases. Therefore, we will delete these observations in the future."
   ]
  },
  {
   "cell_type": "code",
   "execution_count": 5,
   "metadata": {
    "execution": {
     "iopub.execute_input": "2023-04-08T16:18:51.384217Z",
     "iopub.status.busy": "2023-04-08T16:18:51.383238Z",
     "iopub.status.idle": "2023-04-08T16:18:51.394880Z",
     "shell.execute_reply": "2023-04-08T16:18:51.393634Z",
     "shell.execute_reply.started": "2023-04-08T16:18:51.384163Z"
    }
   },
   "outputs": [
    {
     "name": "stdout",
     "output_type": "stream",
     "text": [
      "['Blueberry___healthy' 'Orange___Haunglongbing_(Citrus_greening)'\n",
      " 'Raspberry___healthy' 'Soybean___healthy' 'Squash___Powdery_mildew']\n"
     ]
    }
   ],
   "source": [
    "# Save the directories to be deleted\n",
    "rows_to_drop = [4,15,23,24,25]\n",
    "dir_to_delete = pairs[pairs.index.isin(rows_to_drop)]['Directory']\n",
    "print(dir_to_delete.values)"
   ]
  },
  {
   "cell_type": "code",
   "execution_count": 6,
   "metadata": {
    "execution": {
     "iopub.execute_input": "2023-04-08T17:08:54.153953Z",
     "iopub.status.busy": "2023-04-08T17:08:54.153566Z",
     "iopub.status.idle": "2023-04-08T17:08:54.158546Z",
     "shell.execute_reply": "2023-04-08T17:08:54.157458Z",
     "shell.execute_reply.started": "2023-04-08T17:08:54.153918Z"
    }
   },
   "outputs": [],
   "source": [
    "# Make a directory images\n",
    "os.mkdir('images')\n",
    "\n",
    "# Make subdirectories train, val, test\n",
    "os.mkdir(os.path.join('images', 'train'))\n",
    "os.mkdir(os.path.join('images', 'val'))\n",
    "os.mkdir(os.path.join('images', 'test'))"
   ]
  },
  {
   "cell_type": "code",
   "execution_count": 7,
   "metadata": {
    "execution": {
     "iopub.execute_input": "2023-04-08T17:08:56.528912Z",
     "iopub.status.busy": "2023-04-08T17:08:56.528164Z",
     "iopub.status.idle": "2023-04-08T17:10:50.019123Z",
     "shell.execute_reply": "2023-04-08T17:10:50.018036Z",
     "shell.execute_reply.started": "2023-04-08T17:08:56.528874Z"
    }
   },
   "outputs": [],
   "source": [
    "# Split the data into folders\n",
    "splitfolders.ratio(DATA_DIR,output = \"images\",seed = 42,ratio = (0.80,0.10,0.10))"
   ]
  },
  {
   "cell_type": "code",
   "execution_count": 8,
   "metadata": {
    "execution": {
     "iopub.execute_input": "2023-04-08T17:10:50.021654Z",
     "iopub.status.busy": "2023-04-08T17:10:50.021261Z",
     "iopub.status.idle": "2023-04-08T17:10:50.484467Z",
     "shell.execute_reply": "2023-04-08T17:10:50.483390Z",
     "shell.execute_reply.started": "2023-04-08T17:10:50.021615Z"
    }
   },
   "outputs": [],
   "source": [
    "# Remove the directories we saved before\n",
    "\n",
    "TRAIN_PATH = \"./images/train\"\n",
    "VAL_PATH = \"./images/val\"\n",
    "TEST_PATH  = \"./images/test\"\n",
    "PATHS = [TRAIN_PATH, VAL_PATH, TEST_PATH]\n",
    "\n",
    "for sub_directory in dir_to_delete.values:\n",
    "    for directory in PATHS:\n",
    "        d = directory + '/' + sub_directory\n",
    "        shutil.rmtree(d)"
   ]
  },
  {
   "cell_type": "code",
   "execution_count": 9,
   "metadata": {
    "execution": {
     "iopub.execute_input": "2023-04-08T17:10:50.489487Z",
     "iopub.status.busy": "2023-04-08T17:10:50.485894Z",
     "iopub.status.idle": "2023-04-08T17:10:52.499268Z",
     "shell.execute_reply": "2023-04-08T17:10:52.498290Z",
     "shell.execute_reply.started": "2023-04-08T17:10:50.489454Z"
    }
   },
   "outputs": [
    {
     "name": "stdout",
     "output_type": "stream",
     "text": [
      "Found 31987 images belonging to 33 classes.\n",
      "Found 3988 images belonging to 33 classes.\n",
      "Found 4025 images belonging to 33 classes.\n"
     ]
    }
   ],
   "source": [
    "# Generate batches of tensor image data with real-time data augmentation\n",
    "\n",
    "datagen = tf.keras.preprocessing.image.ImageDataGenerator(rescale=1/255)\n",
    "\n",
    "train_gen = datagen.flow_from_directory(directory = TRAIN_PATH, \n",
    "                                          class_mode=\"categorical\",\n",
    "                                          target_size = IMAGE_SHAPE,\n",
    "                                          batch_size = BATCH_SIZE,\n",
    "                                          color_mode='rgb',\n",
    "                                          seed = 1234,\n",
    "                                          shuffle = True)\n",
    "\n",
    "val_gen = datagen.flow_from_directory(directory = VAL_PATH, \n",
    "                                          class_mode=\"categorical\",\n",
    "                                          target_size = IMAGE_SHAPE,\n",
    "                                          batch_size = BATCH_SIZE,\n",
    "                                          color_mode='rgb',\n",
    "                                          seed = 1234,\n",
    "                                          shuffle = True)\n",
    "\n",
    "test_gen = datagen.flow_from_directory(directory = TEST_PATH, \n",
    "                                          class_mode=\"categorical\",\n",
    "                                          target_size = IMAGE_SHAPE,\n",
    "                                          batch_size = BATCH_SIZE,\n",
    "                                          color_mode='rgb',\n",
    "                                          shuffle = False)"
   ]
  },
  {
   "cell_type": "markdown",
   "metadata": {},
   "source": [
    "3. Make a model"
   ]
  },
  {
   "cell_type": "code",
   "execution_count": 10,
   "metadata": {
    "execution": {
     "iopub.execute_input": "2023-04-08T17:10:52.504114Z",
     "iopub.status.busy": "2023-04-08T17:10:52.503088Z",
     "iopub.status.idle": "2023-04-08T17:10:52.509035Z",
     "shell.execute_reply": "2023-04-08T17:10:52.507580Z",
     "shell.execute_reply.started": "2023-04-08T17:10:52.504071Z"
    }
   },
   "outputs": [],
   "source": [
    "# Make a directory for models\n",
    "os.mkdir('models')\n",
    "\n",
    "# Make subdirectories train, val, test\n",
    "os.mkdir(os.path.join('models', 'first_version'))"
   ]
  },
  {
   "cell_type": "code",
   "execution_count": 11,
   "metadata": {
    "execution": {
     "iopub.execute_input": "2023-04-08T17:10:52.511465Z",
     "iopub.status.busy": "2023-04-08T17:10:52.510952Z",
     "iopub.status.idle": "2023-04-08T17:10:52.520216Z",
     "shell.execute_reply": "2023-04-08T17:10:52.518933Z",
     "shell.execute_reply.started": "2023-04-08T17:10:52.511423Z"
    }
   },
   "outputs": [],
   "source": [
    "# Here we create checkpoint for the first model\n",
    "CHECKPOINT_PATH_MODEL_FIRST = \"./models/first_version\"\n",
    "checkpoint_callback = tf.keras.callbacks.ModelCheckpoint(CHECKPOINT_PATH_MODEL_FIRST,\n",
    "                                      monitor='val_loss',\n",
    "                                      save_best_only=True)"
   ]
  },
  {
   "cell_type": "code",
   "execution_count": 12,
   "metadata": {
    "execution": {
     "iopub.execute_input": "2023-04-08T17:10:52.522363Z",
     "iopub.status.busy": "2023-04-08T17:10:52.521926Z",
     "iopub.status.idle": "2023-04-08T17:10:52.531964Z",
     "shell.execute_reply": "2023-04-08T17:10:52.530896Z",
     "shell.execute_reply.started": "2023-04-08T17:10:52.522327Z"
    }
   },
   "outputs": [],
   "source": [
    "# Set early stopping for 2 epochs\n",
    "early_stopping = EarlyStopping(monitor='val_loss', patience = 2, restore_best_weights=True)"
   ]
  },
  {
   "cell_type": "code",
   "execution_count": 13,
   "metadata": {
    "execution": {
     "iopub.execute_input": "2023-04-08T17:10:52.534605Z",
     "iopub.status.busy": "2023-04-08T17:10:52.533328Z",
     "iopub.status.idle": "2023-04-08T17:10:52.886256Z",
     "shell.execute_reply": "2023-04-08T17:10:52.885183Z",
     "shell.execute_reply.started": "2023-04-08T17:10:52.534577Z"
    }
   },
   "outputs": [
    {
     "name": "stdout",
     "output_type": "stream",
     "text": [
      "Downloading data from https://storage.googleapis.com/tensorflow/keras-applications/vgg16/vgg16_weights_tf_dim_ordering_tf_kernels_notop.h5\n",
      "58889256/58889256 [==============================] - 30s 1us/step\n"
     ]
    }
   ],
   "source": [
    "# Here VGG16 pretrained model is downloaded\n",
    "#We do not include the last dense layers by setting include_top parameter to False \n",
    "vgg16_base_model = VGG16(include_top=False, weights='imagenet', input_shape=(224, 224, 3), pooling='max')"
   ]
  },
  {
   "cell_type": "code",
   "execution_count": 14,
   "metadata": {
    "execution": {
     "iopub.execute_input": "2023-04-08T17:10:52.888283Z",
     "iopub.status.busy": "2023-04-08T17:10:52.887888Z",
     "iopub.status.idle": "2023-04-08T17:10:52.894703Z",
     "shell.execute_reply": "2023-04-08T17:10:52.893335Z",
     "shell.execute_reply.started": "2023-04-08T17:10:52.888244Z"
    }
   },
   "outputs": [],
   "source": [
    "# We fix the parameters of the pretrained model\n",
    "vgg16_base_model.trainable = False"
   ]
  },
  {
   "cell_type": "code",
   "execution_count": 15,
   "metadata": {
    "execution": {
     "iopub.execute_input": "2023-04-08T17:10:52.897105Z",
     "iopub.status.busy": "2023-04-08T17:10:52.896417Z",
     "iopub.status.idle": "2023-04-08T17:10:52.963193Z",
     "shell.execute_reply": "2023-04-08T17:10:52.961964Z",
     "shell.execute_reply.started": "2023-04-08T17:10:52.897069Z"
    }
   },
   "outputs": [],
   "source": [
    "# Here we add final layers to the first model\n",
    "inputs = vgg16_base_model.input\n",
    "\n",
    "x = BatchNormalization()(vgg16_base_model.output)\n",
    "x = Dense(1024, activation='relu')(x)\n",
    "x = Dropout(0.45, seed=1234)(x)\n",
    "x = Dense(512, activation='relu')(x)\n",
    "x = Dropout(0.45, seed=1235)(x)\n",
    "x = Flatten()(x)\n",
    "\n",
    "outputs = Dense(33, activation='softmax')(x)\n",
    "\n",
    "vgg16_model = Model(inputs=inputs, outputs=outputs)"
   ]
  },
  {
   "cell_type": "code",
   "execution_count": 16,
   "metadata": {
    "execution": {
     "iopub.execute_input": "2023-04-08T17:10:52.967258Z",
     "iopub.status.busy": "2023-04-08T17:10:52.966877Z",
     "iopub.status.idle": "2023-04-08T17:10:52.979984Z",
     "shell.execute_reply": "2023-04-08T17:10:52.978950Z",
     "shell.execute_reply.started": "2023-04-08T17:10:52.967227Z"
    }
   },
   "outputs": [],
   "source": [
    "# Here we check if everything is okay with the model\n",
    "vgg16_model.compile(\n",
    "    optimizer=Adam(0.0001),\n",
    "    loss='categorical_crossentropy',\n",
    "    metrics=[f1_macro]\n",
    ")"
   ]
  },
  {
   "cell_type": "code",
   "execution_count": 19,
   "metadata": {
    "execution": {
     "iopub.execute_input": "2023-04-08T17:10:52.982476Z",
     "iopub.status.busy": "2023-04-08T17:10:52.982109Z",
     "iopub.status.idle": "2023-04-08T17:21:21.003244Z",
     "shell.execute_reply": "2023-04-08T17:21:21.002159Z",
     "shell.execute_reply.started": "2023-04-08T17:10:52.982441Z"
    },
    "scrolled": true
   },
   "outputs": [
    {
     "name": "stdout",
     "output_type": "stream",
     "text": [
      "Epoch 1/5\n",
      "500/500 [==============================] - ETA: 0s - loss: 1.3074 - f1_macro: 0.5638 "
     ]
    },
    {
     "name": "stderr",
     "output_type": "stream",
     "text": [
      "WARNING:absl:Found untraced functions such as _jit_compiled_convolution_op, _jit_compiled_convolution_op, _jit_compiled_convolution_op, _jit_compiled_convolution_op, _jit_compiled_convolution_op while saving (showing 5 of 14). These functions will not be directly callable after loading.\n"
     ]
    },
    {
     "name": "stdout",
     "output_type": "stream",
     "text": [
      "INFO:tensorflow:Assets written to: ./models\\first_version\\assets\n"
     ]
    },
    {
     "name": "stderr",
     "output_type": "stream",
     "text": [
      "INFO:tensorflow:Assets written to: ./models\\first_version\\assets\n"
     ]
    },
    {
     "name": "stdout",
     "output_type": "stream",
     "text": [
      "500/500 [==============================] - 9798s 20s/step - loss: 1.3074 - f1_macro: 0.5638 - val_loss: 0.5903 - val_f1_macro: 0.8006\n",
      "Epoch 2/5\n",
      "500/500 [==============================] - ETA: 0s - loss: 0.7518 - f1_macro: 0.7524 "
     ]
    },
    {
     "name": "stderr",
     "output_type": "stream",
     "text": [
      "WARNING:absl:Found untraced functions such as _jit_compiled_convolution_op, _jit_compiled_convolution_op, _jit_compiled_convolution_op, _jit_compiled_convolution_op, _jit_compiled_convolution_op while saving (showing 5 of 14). These functions will not be directly callable after loading.\n"
     ]
    },
    {
     "name": "stdout",
     "output_type": "stream",
     "text": [
      "INFO:tensorflow:Assets written to: ./models\\first_version\\assets\n"
     ]
    },
    {
     "name": "stderr",
     "output_type": "stream",
     "text": [
      "INFO:tensorflow:Assets written to: ./models\\first_version\\assets\n"
     ]
    },
    {
     "name": "stdout",
     "output_type": "stream",
     "text": [
      "500/500 [==============================] - 10109s 20s/step - loss: 0.7518 - f1_macro: 0.7524 - val_loss: 0.4157 - val_f1_macro: 0.8620\n",
      "Epoch 3/5\n",
      "500/500 [==============================] - ETA: 0s - loss: 0.5798 - f1_macro: 0.8097 "
     ]
    },
    {
     "name": "stderr",
     "output_type": "stream",
     "text": [
      "WARNING:absl:Found untraced functions such as _jit_compiled_convolution_op, _jit_compiled_convolution_op, _jit_compiled_convolution_op, _jit_compiled_convolution_op, _jit_compiled_convolution_op while saving (showing 5 of 14). These functions will not be directly callable after loading.\n"
     ]
    },
    {
     "name": "stdout",
     "output_type": "stream",
     "text": [
      "INFO:tensorflow:Assets written to: ./models\\first_version\\assets\n"
     ]
    },
    {
     "name": "stderr",
     "output_type": "stream",
     "text": [
      "INFO:tensorflow:Assets written to: ./models\\first_version\\assets\n"
     ]
    },
    {
     "name": "stdout",
     "output_type": "stream",
     "text": [
      "500/500 [==============================] - 9298s 19s/step - loss: 0.5798 - f1_macro: 0.8097 - val_loss: 0.3463 - val_f1_macro: 0.8885\n",
      "Epoch 4/5\n",
      "500/500 [==============================] - ETA: 0s - loss: 0.4877 - f1_macro: 0.8396 "
     ]
    },
    {
     "name": "stderr",
     "output_type": "stream",
     "text": [
      "WARNING:absl:Found untraced functions such as _jit_compiled_convolution_op, _jit_compiled_convolution_op, _jit_compiled_convolution_op, _jit_compiled_convolution_op, _jit_compiled_convolution_op while saving (showing 5 of 14). These functions will not be directly callable after loading.\n"
     ]
    },
    {
     "name": "stdout",
     "output_type": "stream",
     "text": [
      "INFO:tensorflow:Assets written to: ./models\\first_version\\assets\n"
     ]
    },
    {
     "name": "stderr",
     "output_type": "stream",
     "text": [
      "INFO:tensorflow:Assets written to: ./models\\first_version\\assets\n"
     ]
    },
    {
     "name": "stdout",
     "output_type": "stream",
     "text": [
      "500/500 [==============================] - 9299s 19s/step - loss: 0.4877 - f1_macro: 0.8396 - val_loss: 0.3079 - val_f1_macro: 0.8999\n",
      "Epoch 5/5\n",
      "500/500 [==============================] - ETA: 0s - loss: 0.4284 - f1_macro: 0.8572 "
     ]
    },
    {
     "name": "stderr",
     "output_type": "stream",
     "text": [
      "WARNING:absl:Found untraced functions such as _jit_compiled_convolution_op, _jit_compiled_convolution_op, _jit_compiled_convolution_op, _jit_compiled_convolution_op, _jit_compiled_convolution_op while saving (showing 5 of 14). These functions will not be directly callable after loading.\n"
     ]
    },
    {
     "name": "stdout",
     "output_type": "stream",
     "text": [
      "INFO:tensorflow:Assets written to: ./models\\first_version\\assets\n"
     ]
    },
    {
     "name": "stderr",
     "output_type": "stream",
     "text": [
      "INFO:tensorflow:Assets written to: ./models\\first_version\\assets\n"
     ]
    },
    {
     "name": "stdout",
     "output_type": "stream",
     "text": [
      "\b\b\b\b\b\b\b\b\b\b\b\b\b\b\b\b\b\b\b\b\b\b\b\b\b\b\b\b\b\b\b\b\b\b\b\b\b\b\b\b\b\b\b\b\b\b\b\b\b\b\b\b\b\b\b\b\b\b\b\b\b\b\b\b\b\b\b\b\b\b\b\b\b\b\b\b\b\b\b\b\b\b\b\b\r",
      "500/500 [==============================] - 9472s 19s/step - loss: 0.4284 - f1_macro: 0.8572 - val_loss: 0.2817 - val_f1_macro: 0.9025\n"
     ]
    }
   ],
   "source": [
    "# Here we fit the model\n",
    "history = vgg16_model.fit(train_gen, epochs=EPOCHS, validation_data=val_gen, callbacks=[checkpoint_callback, early_stopping])"
   ]
  },
  {
   "cell_type": "code",
   "execution_count": 20,
   "metadata": {
    "execution": {
     "iopub.execute_input": "2023-04-08T17:21:21.005298Z",
     "iopub.status.busy": "2023-04-08T17:21:21.004873Z",
     "iopub.status.idle": "2023-04-08T17:21:34.464949Z",
     "shell.execute_reply": "2023-04-08T17:21:34.464008Z",
     "shell.execute_reply.started": "2023-04-08T17:21:21.005246Z"
    }
   },
   "outputs": [
    {
     "name": "stdout",
     "output_type": "stream",
     "text": [
      "63/63 [==============================] - 1012s 16s/step - loss: 0.2691 - f1_macro: 0.9055\n"
     ]
    }
   ],
   "source": [
    "results = vgg16_model.evaluate(test_gen, verbose=1)"
   ]
  },
  {
   "cell_type": "code",
   "execution_count": 21,
   "metadata": {
    "execution": {
     "iopub.execute_input": "2023-04-08T17:21:34.467174Z",
     "iopub.status.busy": "2023-04-08T17:21:34.466616Z",
     "iopub.status.idle": "2023-04-08T17:21:34.707180Z",
     "shell.execute_reply": "2023-04-08T17:21:34.705912Z",
     "shell.execute_reply.started": "2023-04-08T17:21:34.467130Z"
    }
   },
   "outputs": [
    {
     "data": {
      "image/png": "[encoded data removed]",
      "text/plain": [
       "<Figure size 640x480 with 1 Axes>"
      ]
     },
     "metadata": {},
     "output_type": "display_data"
    }
   ],
   "source": [
    "# Here we make the first plot for Loss\n",
    "Epochs = [i+1 for i in range(len(history.history['f1_macro']))]\n",
    "\n",
    "plt.plot(Epochs, history.history['loss'], label = 'training loss')\n",
    "plt.plot(Epochs, history.history['val_loss'], label = 'validation loss')\n",
    "plt.grid(True)\n",
    "plt.legend()\n",
    "plt.title('Training and Validation Loss')\n",
    "plt.xlabel('Epochs')\n",
    "plt.show()"
   ]
  },
  {
   "cell_type": "code",
   "execution_count": 22,
   "metadata": {
    "execution": {
     "iopub.execute_input": "2023-04-08T17:21:34.939721Z",
     "iopub.status.busy": "2023-04-08T17:21:34.938949Z",
     "iopub.status.idle": "2023-04-08T17:21:35.166004Z",
     "shell.execute_reply": "2023-04-08T17:21:35.164926Z",
     "shell.execute_reply.started": "2023-04-08T17:21:34.939681Z"
    }
   },
   "outputs": [
    {
     "data": {
      "image/png": "[encoded data removed]",
      "text/plain": [
       "<Figure size 640x480 with 1 Axes>"
      ]
     },
     "metadata": {},
     "output_type": "display_data"
    }
   ],
   "source": [
    "# Here we make the first plot for F1-score\n",
    "Epochs = [i+1 for i in range(len(history.history['f1_macro']))]\n",
    "\n",
    "plt.plot(Epochs, history.history['f1_macro'], label = 'training f1 score')\n",
    "plt.plot(Epochs, history.history['val_f1_macro'], label = 'validation f1 score')\n",
    "plt.grid(True)\n",
    "plt.legend()\n",
    "plt.title('Training and Validation F1-score')\n",
    "plt.xlabel('Epochs')\n",
    "plt.show()"
   ]
  },
  {
   "cell_type": "code",
   "execution_count": null,
   "metadata": {},
   "outputs": [],
   "source": []
  }
 ],
 "metadata": {
  "kernelspec": {
   "display_name": "Python 3 (ipykernel)",
   "language": "python",
   "name": "python3"
  },
  "language_info": {
   "codemirror_mode": {
    "name": "ipython",
    "version": 3
   },
   "file_extension": ".py",
   "mimetype": "text/x-python",
   "name": "python",
   "nbconvert_exporter": "python",
   "pygments_lexer": "ipython3",
   "version": "3.11.1"
  }
 },
 "nbformat": 4,
 "nbformat_minor": 4
}
